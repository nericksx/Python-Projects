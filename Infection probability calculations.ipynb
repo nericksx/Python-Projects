{
 "cells": [
  {
   "cell_type": "code",
   "execution_count": 2,
   "metadata": {},
   "outputs": [],
   "source": [
    "import numpy as np\n",
    "from sklearn.linear_model import LinearRegression\n",
    "import pandas as pd\n",
    "from datetime import date, timedelta "
   ]
  },
  {
   "cell_type": "code",
   "execution_count": 3,
   "metadata": {},
   "outputs": [],
   "source": [
    "## Constants: ##\n",
    "ascertainment = 10\n",
    "incubation = 4.08\n",
    "Vne1 = 0.05   # Non-efficacy rate for Pfizer vaccine\n",
    "Vne2 = 0.059  # Non-efficacy rate for Moderna vaccine\n",
    "Vne3 = 1      # Non-efficacy rate for no vaccine\n",
    "\n",
    "# Get some dates we need and convert to strings\n",
    "today = date.today()\n",
    "yesterday = str(today - timedelta(days = 1))\n",
    "day_before = str(today - timedelta(days = 2))\n",
    "seven_days = str(today - timedelta(days = 7))  \n",
    "eight_days = str(today - timedelta(days = 8))\n",
    "\n",
    "\n",
    "## import data files ##\n",
    "# 2019 County population data\n",
    "url = 'https://raw.githubusercontent.com/nericksx/Vaccinated-Gatherings/master/County_pop.csv'\n",
    "county_df = pd.read_csv(url, header=0)\n",
    "#county_df.set_index('State', inplace=True)\n",
    "\n",
    "# Case data from NYT edited down to last 7 days\n",
    "url = 'https://raw.githubusercontent.com/nytimes/covid-19-data/master/us-counties.csv'\n",
    "df = pd.read_csv(url)\n",
    "df.set_index('date', inplace=True) # Set the index as the date col so we can use the truncate function\n",
    "cases_df = df.truncate(before = eight_days, after = yesterday)\n",
    "\n",
    "# Make a df of just yesterday's data and one of the day before yesterday's data\n",
    "yesterday_df = df.truncate(before = yesterday)\n",
    "day_before_df = df.truncate(before = day_before, after = day_before)"
   ]
  },
  {
   "cell_type": "markdown",
   "metadata": {},
   "source": [
    "## What state and county are you in?"
   ]
  },
  {
   "cell_type": "code",
   "execution_count": 60,
   "metadata": {},
   "outputs": [
    {
     "name": "stdout",
     "output_type": "stream",
     "text": [
      "Choose a state: Oregon\n",
      "['Baker', 'Benton', 'Clackamas', 'Clatsop', 'Columbia', 'Coos', 'Crook', 'Curry', 'Deschutes', 'Douglas', 'Gilliam', 'Grant', 'Harney', 'Hood River', 'Jackson', 'Jefferson', 'Josephine', 'Klamath', 'Lake', 'Lane', 'Lincoln', 'Linn', 'Malheur', 'Marion', 'Morrow', 'Multnomah', 'Polk', 'Sherman', 'Tillamook', 'Umatilla', 'Union', 'Wallowa', 'Wasco', 'Washington', 'Wheeler', 'Yamhill']\n",
      "Choose a county from the list: Multnomah\n"
     ]
    }
   ],
   "source": [
    "state = input(\"Choose a state: \")\n",
    "\n",
    "# Make a df from the rows are just the chosen state\n",
    "state_df = county_df.loc[county_df['State'] == state]\n",
    "\n",
    "# Make a list of the values in the 'county' column and print it so the user can reference it\n",
    "counties_list = state_df['County'].tolist()\n",
    "print(counties_list)\n",
    "\n",
    "county = input(\"Choose a county from the list: \")"
   ]
  },
  {
   "cell_type": "markdown",
   "metadata": {},
   "source": [
    "Let's use this info to make a special df that's just our county for the last 8 days."
   ]
  },
  {
   "cell_type": "code",
   "execution_count": 61,
   "metadata": {},
   "outputs": [
    {
     "data": {
      "text/html": [
       "<div>\n",
       "<style scoped>\n",
       "    .dataframe tbody tr th:only-of-type {\n",
       "        vertical-align: middle;\n",
       "    }\n",
       "\n",
       "    .dataframe tbody tr th {\n",
       "        vertical-align: top;\n",
       "    }\n",
       "\n",
       "    .dataframe thead th {\n",
       "        text-align: right;\n",
       "    }\n",
       "</style>\n",
       "<table border=\"1\" class=\"dataframe\">\n",
       "  <thead>\n",
       "    <tr style=\"text-align: right;\">\n",
       "      <th></th>\n",
       "      <th>date</th>\n",
       "      <th>county</th>\n",
       "      <th>state</th>\n",
       "      <th>fips</th>\n",
       "      <th>cases</th>\n",
       "      <th>deaths</th>\n",
       "    </tr>\n",
       "  </thead>\n",
       "  <tbody>\n",
       "    <tr>\n",
       "      <th>0</th>\n",
       "      <td>2021-01-14</td>\n",
       "      <td>Multnomah</td>\n",
       "      <td>Oregon</td>\n",
       "      <td>41051.0</td>\n",
       "      <td>27890</td>\n",
       "      <td>446.0</td>\n",
       "    </tr>\n",
       "    <tr>\n",
       "      <th>1</th>\n",
       "      <td>2021-01-15</td>\n",
       "      <td>Multnomah</td>\n",
       "      <td>Oregon</td>\n",
       "      <td>41051.0</td>\n",
       "      <td>28068</td>\n",
       "      <td>457.0</td>\n",
       "    </tr>\n",
       "    <tr>\n",
       "      <th>2</th>\n",
       "      <td>2021-01-16</td>\n",
       "      <td>Multnomah</td>\n",
       "      <td>Oregon</td>\n",
       "      <td>41051.0</td>\n",
       "      <td>28237</td>\n",
       "      <td>458.0</td>\n",
       "    </tr>\n",
       "    <tr>\n",
       "      <th>3</th>\n",
       "      <td>2021-01-17</td>\n",
       "      <td>Multnomah</td>\n",
       "      <td>Oregon</td>\n",
       "      <td>41051.0</td>\n",
       "      <td>28337</td>\n",
       "      <td>458.0</td>\n",
       "    </tr>\n",
       "    <tr>\n",
       "      <th>4</th>\n",
       "      <td>2021-01-18</td>\n",
       "      <td>Multnomah</td>\n",
       "      <td>Oregon</td>\n",
       "      <td>41051.0</td>\n",
       "      <td>28467</td>\n",
       "      <td>463.0</td>\n",
       "    </tr>\n",
       "    <tr>\n",
       "      <th>5</th>\n",
       "      <td>2021-01-19</td>\n",
       "      <td>Multnomah</td>\n",
       "      <td>Oregon</td>\n",
       "      <td>41051.0</td>\n",
       "      <td>28586</td>\n",
       "      <td>463.0</td>\n",
       "    </tr>\n",
       "    <tr>\n",
       "      <th>6</th>\n",
       "      <td>2021-01-20</td>\n",
       "      <td>Multnomah</td>\n",
       "      <td>Oregon</td>\n",
       "      <td>41051.0</td>\n",
       "      <td>28678</td>\n",
       "      <td>464.0</td>\n",
       "    </tr>\n",
       "    <tr>\n",
       "      <th>7</th>\n",
       "      <td>2021-01-21</td>\n",
       "      <td>Multnomah</td>\n",
       "      <td>Oregon</td>\n",
       "      <td>41051.0</td>\n",
       "      <td>28796</td>\n",
       "      <td>464.0</td>\n",
       "    </tr>\n",
       "  </tbody>\n",
       "</table>\n",
       "</div>"
      ],
      "text/plain": [
       "         date     county   state     fips  cases  deaths\n",
       "0  2021-01-14  Multnomah  Oregon  41051.0  27890   446.0\n",
       "1  2021-01-15  Multnomah  Oregon  41051.0  28068   457.0\n",
       "2  2021-01-16  Multnomah  Oregon  41051.0  28237   458.0\n",
       "3  2021-01-17  Multnomah  Oregon  41051.0  28337   458.0\n",
       "4  2021-01-18  Multnomah  Oregon  41051.0  28467   463.0\n",
       "5  2021-01-19  Multnomah  Oregon  41051.0  28586   463.0\n",
       "6  2021-01-20  Multnomah  Oregon  41051.0  28678   464.0\n",
       "7  2021-01-21  Multnomah  Oregon  41051.0  28796   464.0"
      ]
     },
     "execution_count": 61,
     "metadata": {},
     "output_type": "execute_result"
    }
   ],
   "source": [
    "# Using the county name, create a df that is just one row \n",
    "# and access the location containing the FIPS\n",
    "fips = state_df.loc[state_df['County'] == county, 'FIPS'].iloc[0]\n",
    "\n",
    "# Use the FIPS to pull just our county from the 7-day cases_df \n",
    "target_df = cases_df.loc[cases_df['fips'] == fips]\n",
    "\n",
    "# Put the index back so we can access the date as a regular column\n",
    "target_df.reset_index(inplace=True)\n",
    "target_df"
   ]
  },
  {
   "cell_type": "markdown",
   "metadata": {},
   "source": [
    "## Dnp: Predicted Daily Cases"
   ]
  },
  {
   "cell_type": "markdown",
   "metadata": {},
   "source": [
    "### Lets make a 7 day regression! "
   ]
  },
  {
   "cell_type": "markdown",
   "metadata": {},
   "source": [
    "We'll make a list of last 7 dates from our special target_df since it's already such a tidy column"
   ]
  },
  {
   "cell_type": "code",
   "execution_count": 62,
   "metadata": {},
   "outputs": [
    {
     "data": {
      "text/plain": [
       "DatetimeIndex(['2021-01-15', '2021-01-16', '2021-01-17', '2021-01-18',\n",
       "               '2021-01-19', '2021-01-20', '2021-01-21'],\n",
       "              dtype='datetime64[ns]', freq=None)"
      ]
     },
     "execution_count": 62,
     "metadata": {},
     "output_type": "execute_result"
    }
   ],
   "source": [
    "# Convert the date column to a list\n",
    "dates_list = target_df['date'].tolist()\n",
    "\n",
    "# Use Pandas to make a stable happy array because it's a datetime\n",
    "# and remove the earliest date (the 8th day back) so we have a 7 dates\n",
    "dates = pd.DatetimeIndex(dates_list).delete(0)\n",
    "dates"
   ]
  },
  {
   "cell_type": "markdown",
   "metadata": {},
   "source": [
    "Now let's get the number of new cases for each day. That's the number of new cases subtract the number of new cases the day before "
   ]
  },
  {
   "cell_type": "code",
   "execution_count": 63,
   "metadata": {},
   "outputs": [
    {
     "data": {
      "text/plain": [
       "[178, 169, 100, 130, 119, 92, 118]"
      ]
     },
     "execution_count": 63,
     "metadata": {},
     "output_type": "execute_result"
    }
   ],
   "source": [
    "# Convert the cases column to a list\n",
    "cases_list = target_df['cases'].tolist()\n",
    "\n",
    "# Create a new list from (# cases) - (# previous cases)\n",
    "new_cases = [y - x for x,y in zip(cases_list,cases_list[1:])]\n",
    "new_cases"
   ]
  },
  {
   "cell_type": "markdown",
   "metadata": {},
   "source": [
    "Run a linear regression to get the slope"
   ]
  },
  {
   "cell_type": "code",
   "execution_count": 64,
   "metadata": {},
   "outputs": [
    {
     "data": {
      "text/plain": [
       "-11.249999999999996"
      ]
     },
     "execution_count": 64,
     "metadata": {},
     "output_type": "execute_result"
    }
   ],
   "source": [
    "# Put the dates in a Numpy array and reshape to run the regression\n",
    "x = np.array(dates, dtype='datetime64[D]').reshape((-1,1))\n",
    "\n",
    "# Daily new cases\n",
    "y = np.array(new_cases)\n",
    "\n",
    "# Make the regression model\n",
    "model = LinearRegression().fit(x, y)\n",
    "\n",
    "#Get the slope and return it as a number (as opposed to an array)\n",
    "slope = (model.coef_).item(0)\n",
    "slope"
   ]
  },
  {
   "cell_type": "markdown",
   "metadata": {},
   "source": [
    "### Use slope to calculate Dnp\n",
    "(incubation * slope) + yesterday's new cases"
   ]
  },
  {
   "cell_type": "code",
   "execution_count": 65,
   "metadata": {},
   "outputs": [
    {
     "data": {
      "text/plain": [
       "123.10000000000002"
      ]
     },
     "execution_count": 65,
     "metadata": {},
     "output_type": "execute_result"
    }
   ],
   "source": [
    "Dnp = (incubation*slope)+169\n",
    "Dnp"
   ]
  },
  {
   "cell_type": "markdown",
   "metadata": {},
   "source": [
    "## Irp: Likelihood of a random person being infected in a county\n",
    "(Dnp * Ascertainment Bias:10 * Incubation period:4.08) / County Size"
   ]
  },
  {
   "cell_type": "code",
   "execution_count": 66,
   "metadata": {},
   "outputs": [
    {
     "name": "stdout",
     "output_type": "stream",
     "text": [
      "812855\n",
      "0.006178814179650739\n"
     ]
    }
   ],
   "source": [
    "# Using the county name, create a df that is just one row \n",
    "# and access the location containing the FIPS\n",
    "pop = county_df.loc[county_df['FIPS'] == fips, 'Population'].iloc[0]\n",
    "print(pop)\n",
    "Irp = (Dnp * ascertainment * incubation)/pop\n",
    "print(Irp)"
   ]
  },
  {
   "cell_type": "markdown",
   "metadata": {},
   "source": [
    "## Let's figure out if you can go to that dinner party!"
   ]
  },
  {
   "cell_type": "code",
   "execution_count": 67,
   "metadata": {},
   "outputs": [
    {
     "name": "stdout",
     "output_type": "stream",
     "text": [
      "0.06009814664371438\n",
      "You have a 6.01% chance of an exposure occuring at this gathering.\n"
     ]
    }
   ],
   "source": [
    "n1 = 0  # Number of people with the Pfizer vaccine\n",
    "n2 = 0  # Number of people with the Moderna vaccine\n",
    "n3 = 10  # Number of people unvaccinated :-0\n",
    "\n",
    "pfizer_folks_A = (1-(1-(Vne1 * Irp)) ** n1)\n",
    "moderna_folks_A = (1-(1-(Vne2 * Irp)) ** n2)\n",
    "unvacc_folks_A = (1-(1-(Vne3 * Irp)) ** n3) \n",
    "\n",
    "pfizer_folks_B = (1-(1-(Vne1 * (1-Irp))) ** n1)\n",
    "moderna_folks_B = (1-(1-(Vne2 * (1-Irp))) ** n2)\n",
    "unvacc_folks_B = (1-(1-(Vne3 * (1-Irp))) ** n3)\n",
    "\n",
    "A = pfizer_folks_A + moderna_folks_A + unvacc_folks_A\n",
    "B = pfizer_folks_B + moderna_folks_B + unvacc_folks_B\n",
    "if B > 1:\n",
    "    B = 1\n",
    "if B < 1:\n",
    "    print(B)\n",
    "\n",
    "print(A)\n",
    "\n",
    "result = (A * B) * 100\n",
    "chance = round(result, 2)\n",
    "print('You have a ' + str(chance) + '% ' + 'chance of an exposure occuring at this gathering.')\n",
    "\n",
    "if chance >= 10:\n",
    "    print('I wouldn\\'t go' )\n",
    "if chance >= 20:\n",
    "    print('Aw, HELL naw!' )"
   ]
  }
 ],
 "metadata": {
  "kernelspec": {
   "display_name": "Python 3",
   "language": "python",
   "name": "python3"
  },
  "language_info": {
   "codemirror_mode": {
    "name": "ipython",
    "version": 3
   },
   "file_extension": ".py",
   "mimetype": "text/x-python",
   "name": "python",
   "nbconvert_exporter": "python",
   "pygments_lexer": "ipython3",
   "version": "3.8.3"
  }
 },
 "nbformat": 4,
 "nbformat_minor": 4
}
